{
 "cells": [
  {
   "cell_type": "code",
   "execution_count": 63,
   "id": "015396c7",
   "metadata": {},
   "outputs": [],
   "source": [
    "from tkinter import *\n",
    "import tkinter as tk\n",
    "from tkinter import filedialog, messagebox,Menu\n",
    "\n",
    "windows=Tk()\n",
    "windows.geometry(\"500x400\")\n",
    "windows.title(\"Notepad\")\n",
    "\n",
    "menubar=Menu(windows)\n",
    "newitem1=Menu(menubar,tearoff=0)\n",
    "newitem1.add_cascade(label=\"New\")\n",
    "newitem1.add_cascade(label=\"New window\")\n",
    "newitem1.add_cascade(label=\"Open\")\n",
    "\n",
    "newitem1.add_separator()\n",
    "newitem1.add_command(label=\"Save\")\n",
    "newitem1.add_separator()\n",
    "newitem1.add_command(label=\"Exit\")\n",
    "\n",
    "\n",
    "newitem2 = Menu(menubar,tearoff=0)\n",
    "newitem2.add_command(label=\"Cut\")\n",
    "newitem2.add_separator()\n",
    "newitem2.add_command(label=\"Copy\")\n",
    "newitem2.add_separator()\n",
    "newitem2.add_command(label=\"Paste\")\n",
    "\n",
    "newitem3=Menu(menubar)\n",
    "newitem4=Menu(menubar)\n",
    "newitem5=Menu(menubar)\n",
    "\n",
    "\n",
    "\n",
    "\n",
    "menubar.add_cascade(label='File', menu=newitem1)\n",
    "menubar.add_cascade(label='Edit', menu=newitem2)\n",
    "menubar.add_cascade(label=\"format\",menu=newitem3)\n",
    "menubar.add_cascade(label=\"view\",menu=newitem4)\n",
    "menubar.add_cascade(label=\"Help\",menu=newitem5)\n",
    "\n",
    "\n",
    "windows.config(menu=menubar)\n",
    "windows.mainloop()"
   ]
  },
  {
   "cell_type": "code",
   "execution_count": null,
   "id": "cfb566db",
   "metadata": {},
   "outputs": [],
   "source": []
  },
  {
   "cell_type": "code",
   "execution_count": null,
   "id": "350755b7",
   "metadata": {},
   "outputs": [],
   "source": []
  }
 ],
 "metadata": {
  "kernelspec": {
   "display_name": "Python 3 (ipykernel)",
   "language": "python",
   "name": "python3"
  },
  "language_info": {
   "codemirror_mode": {
    "name": "ipython",
    "version": 3
   },
   "file_extension": ".py",
   "mimetype": "text/x-python",
   "name": "python",
   "nbconvert_exporter": "python",
   "pygments_lexer": "ipython3",
   "version": "3.9.13"
  }
 },
 "nbformat": 4,
 "nbformat_minor": 5
}
